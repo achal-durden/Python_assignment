{
 "cells": [
  {
   "cell_type": "code",
   "execution_count": 117,
   "id": "005bf1a1",
   "metadata": {},
   "outputs": [
    {
     "name": "stdout",
     "output_type": "stream",
     "text": [
      "Defaulting to user installation because normal site-packages is not writeable"
     ]
    },
    {
     "name": "stderr",
     "output_type": "stream",
     "text": [
      "\n",
      "[notice] A new release of pip available: 22.3.1 -> 23.1.2\n",
      "[notice] To update, run: python.exe -m pip install --upgrade pip\n"
     ]
    },
    {
     "name": "stdout",
     "output_type": "stream",
     "text": [
      "\n",
      "Requirement already satisfied: pandas in c:\\users\\achal\\appdata\\roaming\\python\\python311\\site-packages (2.0.1)\n",
      "Requirement already satisfied: python-dateutil>=2.8.2 in c:\\users\\achal\\appdata\\roaming\\python\\python311\\site-packages (from pandas) (2.8.2)\n",
      "Requirement already satisfied: pytz>=2020.1 in c:\\users\\achal\\appdata\\roaming\\python\\python311\\site-packages (from pandas) (2023.3)\n",
      "Requirement already satisfied: tzdata>=2022.1 in c:\\users\\achal\\appdata\\roaming\\python\\python311\\site-packages (from pandas) (2023.3)\n",
      "Requirement already satisfied: numpy>=1.21.0 in c:\\users\\achal\\appdata\\roaming\\python\\python311\\site-packages (from pandas) (1.24.3)\n",
      "Requirement already satisfied: six>=1.5 in c:\\users\\achal\\appdata\\roaming\\python\\python311\\site-packages (from python-dateutil>=2.8.2->pandas) (1.16.0)\n"
     ]
    }
   ],
   "source": [
    "!pip install pandas\n"
   ]
  },
  {
   "cell_type": "code",
   "execution_count": 118,
   "id": "5343f87a",
   "metadata": {},
   "outputs": [
    {
     "name": "stdout",
     "output_type": "stream",
     "text": [
      "Defaulting to user installation because normal site-packages is not writeable\n",
      "Requirement already satisfied: numpy in c:\\users\\achal\\appdata\\roaming\\python\\python311\\site-packages (1.24.3)\n"
     ]
    },
    {
     "name": "stderr",
     "output_type": "stream",
     "text": [
      "\n",
      "[notice] A new release of pip available: 22.3.1 -> 23.1.2\n",
      "[notice] To update, run: python.exe -m pip install --upgrade pip\n"
     ]
    }
   ],
   "source": [
    "import pandas as pd\n",
    "!pip install numpy"
   ]
  },
  {
   "cell_type": "code",
   "execution_count": 119,
   "id": "19ac6be5",
   "metadata": {},
   "outputs": [],
   "source": [
    "df = pd.read_csv(\"tradelog.csv\")"
   ]
  },
  {
   "cell_type": "code",
   "execution_count": 120,
   "id": "20e16f99",
   "metadata": {},
   "outputs": [
    {
     "data": {
      "text/html": [
       "<div>\n",
       "<style scoped>\n",
       "    .dataframe tbody tr th:only-of-type {\n",
       "        vertical-align: middle;\n",
       "    }\n",
       "\n",
       "    .dataframe tbody tr th {\n",
       "        vertical-align: top;\n",
       "    }\n",
       "\n",
       "    .dataframe thead th {\n",
       "        text-align: right;\n",
       "    }\n",
       "</style>\n",
       "<table border=\"1\" class=\"dataframe\">\n",
       "  <thead>\n",
       "    <tr style=\"text-align: right;\">\n",
       "      <th></th>\n",
       "      <th>Unnamed: 0</th>\n",
       "      <th>Ticker</th>\n",
       "      <th>Entry Time</th>\n",
       "      <th>Entry Price</th>\n",
       "      <th>Exit Time</th>\n",
       "      <th>Exit Price</th>\n",
       "    </tr>\n",
       "  </thead>\n",
       "  <tbody>\n",
       "    <tr>\n",
       "      <th>0</th>\n",
       "      <td>1</td>\n",
       "      <td>BANKNIFTY09JUL2022800PE</td>\n",
       "      <td>08-07-2020 09:29</td>\n",
       "      <td>301.00</td>\n",
       "      <td>08-07-2020 13:15</td>\n",
       "      <td>163.50</td>\n",
       "    </tr>\n",
       "    <tr>\n",
       "      <th>1</th>\n",
       "      <td>2</td>\n",
       "      <td>BANKNIFTY09JUL2022700CE</td>\n",
       "      <td>09-07-2020 09:29</td>\n",
       "      <td>166.75</td>\n",
       "      <td>09-07-2020 10:34</td>\n",
       "      <td>162.50</td>\n",
       "    </tr>\n",
       "    <tr>\n",
       "      <th>2</th>\n",
       "      <td>3</td>\n",
       "      <td>BANKNIFTY09JUL2022700PE</td>\n",
       "      <td>09-07-2020 09:29</td>\n",
       "      <td>147.00</td>\n",
       "      <td>09-07-2020 10:34</td>\n",
       "      <td>110.55</td>\n",
       "    </tr>\n",
       "    <tr>\n",
       "      <th>3</th>\n",
       "      <td>4</td>\n",
       "      <td>BANKNIFTY16JUL2022700CE</td>\n",
       "      <td>10-07-2020 09:29</td>\n",
       "      <td>437.55</td>\n",
       "      <td>10-07-2020 15:24</td>\n",
       "      <td>295.10</td>\n",
       "    </tr>\n",
       "    <tr>\n",
       "      <th>4</th>\n",
       "      <td>5</td>\n",
       "      <td>BANKNIFTY16JUL2022700PE</td>\n",
       "      <td>10-07-2020 09:29</td>\n",
       "      <td>403.15</td>\n",
       "      <td>10-07-2020 15:24</td>\n",
       "      <td>555.20</td>\n",
       "    </tr>\n",
       "    <tr>\n",
       "      <th>...</th>\n",
       "      <td>...</td>\n",
       "      <td>...</td>\n",
       "      <td>...</td>\n",
       "      <td>...</td>\n",
       "      <td>...</td>\n",
       "      <td>...</td>\n",
       "    </tr>\n",
       "    <tr>\n",
       "      <th>244</th>\n",
       "      <td>245</td>\n",
       "      <td>BANKNIFTY31DEC2031300PE</td>\n",
       "      <td>29-12-2020 09:29</td>\n",
       "      <td>274.60</td>\n",
       "      <td>29-12-2020 13:10</td>\n",
       "      <td>216.65</td>\n",
       "    </tr>\n",
       "    <tr>\n",
       "      <th>245</th>\n",
       "      <td>246</td>\n",
       "      <td>BANKNIFTY31DEC2031200CE</td>\n",
       "      <td>30-12-2020 09:29</td>\n",
       "      <td>283.90</td>\n",
       "      <td>30-12-2020 10:24</td>\n",
       "      <td>248.25</td>\n",
       "    </tr>\n",
       "    <tr>\n",
       "      <th>246</th>\n",
       "      <td>247</td>\n",
       "      <td>BANKNIFTY31DEC2031200PE</td>\n",
       "      <td>30-12-2020 09:29</td>\n",
       "      <td>240.10</td>\n",
       "      <td>30-12-2020 10:24</td>\n",
       "      <td>221.70</td>\n",
       "    </tr>\n",
       "    <tr>\n",
       "      <th>247</th>\n",
       "      <td>248</td>\n",
       "      <td>BANKNIFTY31DEC2031300CE</td>\n",
       "      <td>31-12-2020 09:29</td>\n",
       "      <td>173.85</td>\n",
       "      <td>31-12-2020 10:37</td>\n",
       "      <td>161.80</td>\n",
       "    </tr>\n",
       "    <tr>\n",
       "      <th>248</th>\n",
       "      <td>249</td>\n",
       "      <td>BANKNIFTY31DEC2031300PE</td>\n",
       "      <td>31-12-2020 09:29</td>\n",
       "      <td>124.00</td>\n",
       "      <td>31-12-2020 10:37</td>\n",
       "      <td>105.05</td>\n",
       "    </tr>\n",
       "  </tbody>\n",
       "</table>\n",
       "<p>249 rows × 6 columns</p>\n",
       "</div>"
      ],
      "text/plain": [
       "     Unnamed: 0                   Ticker        Entry Time  Entry Price   \n",
       "0             1  BANKNIFTY09JUL2022800PE  08-07-2020 09:29       301.00  \\\n",
       "1             2  BANKNIFTY09JUL2022700CE  09-07-2020 09:29       166.75   \n",
       "2             3  BANKNIFTY09JUL2022700PE  09-07-2020 09:29       147.00   \n",
       "3             4  BANKNIFTY16JUL2022700CE  10-07-2020 09:29       437.55   \n",
       "4             5  BANKNIFTY16JUL2022700PE  10-07-2020 09:29       403.15   \n",
       "..          ...                      ...               ...          ...   \n",
       "244         245  BANKNIFTY31DEC2031300PE  29-12-2020 09:29       274.60   \n",
       "245         246  BANKNIFTY31DEC2031200CE  30-12-2020 09:29       283.90   \n",
       "246         247  BANKNIFTY31DEC2031200PE  30-12-2020 09:29       240.10   \n",
       "247         248  BANKNIFTY31DEC2031300CE  31-12-2020 09:29       173.85   \n",
       "248         249  BANKNIFTY31DEC2031300PE  31-12-2020 09:29       124.00   \n",
       "\n",
       "            Exit Time  Exit Price  \n",
       "0    08-07-2020 13:15      163.50  \n",
       "1    09-07-2020 10:34      162.50  \n",
       "2    09-07-2020 10:34      110.55  \n",
       "3    10-07-2020 15:24      295.10  \n",
       "4    10-07-2020 15:24      555.20  \n",
       "..                ...         ...  \n",
       "244  29-12-2020 13:10      216.65  \n",
       "245  30-12-2020 10:24      248.25  \n",
       "246  30-12-2020 10:24      221.70  \n",
       "247  31-12-2020 10:37      161.80  \n",
       "248  31-12-2020 10:37      105.05  \n",
       "\n",
       "[249 rows x 6 columns]"
      ]
     },
     "execution_count": 120,
     "metadata": {},
     "output_type": "execute_result"
    }
   ],
   "source": [
    "df"
   ]
  },
  {
   "cell_type": "code",
   "execution_count": 121,
   "id": "31dd2e6a",
   "metadata": {},
   "outputs": [
    {
     "data": {
      "text/plain": [
       "249"
      ]
     },
     "execution_count": 121,
     "metadata": {},
     "output_type": "execute_result"
    }
   ],
   "source": [
    "df[\"Exit Price\"].count()"
   ]
  },
  {
   "cell_type": "code",
   "execution_count": 122,
   "id": "2a795960",
   "metadata": {},
   "outputs": [
    {
     "data": {
      "text/plain": [
       "0     -137.50\n",
       "1       -4.25\n",
       "2      -36.45\n",
       "3     -142.45\n",
       "4      152.05\n",
       "        ...  \n",
       "244    -57.95\n",
       "245    -35.65\n",
       "246    -18.40\n",
       "247    -12.05\n",
       "248    -18.95\n",
       "Name: Profit, Length: 249, dtype: float64"
      ]
     },
     "execution_count": 122,
     "metadata": {},
     "output_type": "execute_result"
    }
   ],
   "source": [
    "df1 = pd.DataFrame(df)\n",
    "df1[\"Profit\"]=df1[\"Exit Price\"]-df1[\"Entry Price\"]\n",
    "df1[\"Profit\"]"
   ]
  },
  {
   "cell_type": "code",
   "execution_count": 123,
   "id": "e9c012d3",
   "metadata": {},
   "outputs": [
    {
     "data": {
      "text/plain": [
       "249"
      ]
     },
     "execution_count": 123,
     "metadata": {},
     "output_type": "execute_result"
    }
   ],
   "source": [
    "len(df)"
   ]
  },
  {
   "cell_type": "code",
   "execution_count": 124,
   "id": "cc587c04",
   "metadata": {},
   "outputs": [],
   "source": [
    "df1[\"Profitable Trade\"]=df1[\"Profit\"]>0"
   ]
  },
  {
   "cell_type": "code",
   "execution_count": 125,
   "id": "c090201c",
   "metadata": {},
   "outputs": [
    {
     "data": {
      "text/html": [
       "<div>\n",
       "<style scoped>\n",
       "    .dataframe tbody tr th:only-of-type {\n",
       "        vertical-align: middle;\n",
       "    }\n",
       "\n",
       "    .dataframe tbody tr th {\n",
       "        vertical-align: top;\n",
       "    }\n",
       "\n",
       "    .dataframe thead th {\n",
       "        text-align: right;\n",
       "    }\n",
       "</style>\n",
       "<table border=\"1\" class=\"dataframe\">\n",
       "  <thead>\n",
       "    <tr style=\"text-align: right;\">\n",
       "      <th></th>\n",
       "      <th>Unnamed: 0</th>\n",
       "      <th>Ticker</th>\n",
       "      <th>Entry Time</th>\n",
       "      <th>Entry Price</th>\n",
       "      <th>Exit Time</th>\n",
       "      <th>Exit Price</th>\n",
       "      <th>Profit</th>\n",
       "      <th>Profitable Trade</th>\n",
       "    </tr>\n",
       "  </thead>\n",
       "  <tbody>\n",
       "    <tr>\n",
       "      <th>4</th>\n",
       "      <td>5</td>\n",
       "      <td>BANKNIFTY16JUL2022700PE</td>\n",
       "      <td>10-07-2020 09:29</td>\n",
       "      <td>403.15</td>\n",
       "      <td>10-07-2020 15:24</td>\n",
       "      <td>555.20</td>\n",
       "      <td>152.05</td>\n",
       "      <td>True</td>\n",
       "    </tr>\n",
       "    <tr>\n",
       "      <th>6</th>\n",
       "      <td>7</td>\n",
       "      <td>BANKNIFTY16JUL2022600PE</td>\n",
       "      <td>13-07-2020 09:29</td>\n",
       "      <td>356.50</td>\n",
       "      <td>13-07-2020 11:11</td>\n",
       "      <td>590.85</td>\n",
       "      <td>234.35</td>\n",
       "      <td>True</td>\n",
       "    </tr>\n",
       "    <tr>\n",
       "      <th>8</th>\n",
       "      <td>9</td>\n",
       "      <td>BANKNIFTY16JUL2021800PE</td>\n",
       "      <td>14-07-2020 09:29</td>\n",
       "      <td>328.55</td>\n",
       "      <td>14-07-2020 10:56</td>\n",
       "      <td>513.65</td>\n",
       "      <td>185.10</td>\n",
       "      <td>True</td>\n",
       "    </tr>\n",
       "    <tr>\n",
       "      <th>9</th>\n",
       "      <td>10</td>\n",
       "      <td>BANKNIFTY16JUL2021600CE</td>\n",
       "      <td>15-07-2020 09:29</td>\n",
       "      <td>265.65</td>\n",
       "      <td>15-07-2020 12:03</td>\n",
       "      <td>329.25</td>\n",
       "      <td>63.60</td>\n",
       "      <td>True</td>\n",
       "    </tr>\n",
       "    <tr>\n",
       "      <th>11</th>\n",
       "      <td>12</td>\n",
       "      <td>BANKNIFTY16JUL2021100CE</td>\n",
       "      <td>16-07-2020 09:29</td>\n",
       "      <td>135.80</td>\n",
       "      <td>16-07-2020 09:48</td>\n",
       "      <td>244.95</td>\n",
       "      <td>109.15</td>\n",
       "      <td>True</td>\n",
       "    </tr>\n",
       "    <tr>\n",
       "      <th>...</th>\n",
       "      <td>...</td>\n",
       "      <td>...</td>\n",
       "      <td>...</td>\n",
       "      <td>...</td>\n",
       "      <td>...</td>\n",
       "      <td>...</td>\n",
       "      <td>...</td>\n",
       "      <td>...</td>\n",
       "    </tr>\n",
       "    <tr>\n",
       "      <th>234</th>\n",
       "      <td>235</td>\n",
       "      <td>BANKNIFTY24DEC2030300PE</td>\n",
       "      <td>21-12-2020 09:29</td>\n",
       "      <td>309.05</td>\n",
       "      <td>21-12-2020 13:37</td>\n",
       "      <td>498.35</td>\n",
       "      <td>189.30</td>\n",
       "      <td>True</td>\n",
       "    </tr>\n",
       "    <tr>\n",
       "      <th>237</th>\n",
       "      <td>238</td>\n",
       "      <td>BANKNIFTY24DEC2029600CE</td>\n",
       "      <td>23-12-2020 09:29</td>\n",
       "      <td>218.15</td>\n",
       "      <td>23-12-2020 14:13</td>\n",
       "      <td>306.85</td>\n",
       "      <td>88.70</td>\n",
       "      <td>True</td>\n",
       "    </tr>\n",
       "    <tr>\n",
       "      <th>239</th>\n",
       "      <td>240</td>\n",
       "      <td>BANKNIFTY24DEC2030200CE</td>\n",
       "      <td>24-12-2020 09:29</td>\n",
       "      <td>139.45</td>\n",
       "      <td>24-12-2020 10:15</td>\n",
       "      <td>254.10</td>\n",
       "      <td>114.65</td>\n",
       "      <td>True</td>\n",
       "    </tr>\n",
       "    <tr>\n",
       "      <th>241</th>\n",
       "      <td>242</td>\n",
       "      <td>BANKNIFTY31DEC2030800CE</td>\n",
       "      <td>28-12-2020 09:29</td>\n",
       "      <td>328.80</td>\n",
       "      <td>28-12-2020 13:43</td>\n",
       "      <td>348.15</td>\n",
       "      <td>19.35</td>\n",
       "      <td>True</td>\n",
       "    </tr>\n",
       "    <tr>\n",
       "      <th>243</th>\n",
       "      <td>244</td>\n",
       "      <td>BANKNIFTY31DEC2031300CE</td>\n",
       "      <td>29-12-2020 09:29</td>\n",
       "      <td>272.15</td>\n",
       "      <td>29-12-2020 13:10</td>\n",
       "      <td>274.75</td>\n",
       "      <td>2.60</td>\n",
       "      <td>True</td>\n",
       "    </tr>\n",
       "  </tbody>\n",
       "</table>\n",
       "<p>96 rows × 8 columns</p>\n",
       "</div>"
      ],
      "text/plain": [
       "     Unnamed: 0                   Ticker        Entry Time  Entry Price   \n",
       "4             5  BANKNIFTY16JUL2022700PE  10-07-2020 09:29       403.15  \\\n",
       "6             7  BANKNIFTY16JUL2022600PE  13-07-2020 09:29       356.50   \n",
       "8             9  BANKNIFTY16JUL2021800PE  14-07-2020 09:29       328.55   \n",
       "9            10  BANKNIFTY16JUL2021600CE  15-07-2020 09:29       265.65   \n",
       "11           12  BANKNIFTY16JUL2021100CE  16-07-2020 09:29       135.80   \n",
       "..          ...                      ...               ...          ...   \n",
       "234         235  BANKNIFTY24DEC2030300PE  21-12-2020 09:29       309.05   \n",
       "237         238  BANKNIFTY24DEC2029600CE  23-12-2020 09:29       218.15   \n",
       "239         240  BANKNIFTY24DEC2030200CE  24-12-2020 09:29       139.45   \n",
       "241         242  BANKNIFTY31DEC2030800CE  28-12-2020 09:29       328.80   \n",
       "243         244  BANKNIFTY31DEC2031300CE  29-12-2020 09:29       272.15   \n",
       "\n",
       "            Exit Time  Exit Price  Profit  Profitable Trade  \n",
       "4    10-07-2020 15:24      555.20  152.05              True  \n",
       "6    13-07-2020 11:11      590.85  234.35              True  \n",
       "8    14-07-2020 10:56      513.65  185.10              True  \n",
       "9    15-07-2020 12:03      329.25   63.60              True  \n",
       "11   16-07-2020 09:48      244.95  109.15              True  \n",
       "..                ...         ...     ...               ...  \n",
       "234  21-12-2020 13:37      498.35  189.30              True  \n",
       "237  23-12-2020 14:13      306.85   88.70              True  \n",
       "239  24-12-2020 10:15      254.10  114.65              True  \n",
       "241  28-12-2020 13:43      348.15   19.35              True  \n",
       "243  29-12-2020 13:10      274.75    2.60              True  \n",
       "\n",
       "[96 rows x 8 columns]"
      ]
     },
     "execution_count": 125,
     "metadata": {},
     "output_type": "execute_result"
    }
   ],
   "source": [
    "df1[df1[\"Profitable Trade\"]>0]"
   ]
  },
  {
   "cell_type": "code",
   "execution_count": 126,
   "id": "3d3f8d40",
   "metadata": {},
   "outputs": [],
   "source": [
    "number_of_profitable_trade= (df1[\"Profitable Trade\"]==True).value_counts()"
   ]
  },
  {
   "cell_type": "code",
   "execution_count": 127,
   "id": "647a4eae",
   "metadata": {},
   "outputs": [
    {
     "data": {
      "text/plain": [
       "Profitable Trade\n",
       "False    153\n",
       "True      96\n",
       "Name: count, dtype: int64"
      ]
     },
     "execution_count": 127,
     "metadata": {},
     "output_type": "execute_result"
    }
   ],
   "source": [
    "number_of_profitable_trade"
   ]
  },
  {
   "cell_type": "markdown",
   "id": "57cb5faa",
   "metadata": {},
   "source": [
    "Profitable Trade = 96\n",
    "Non-Profitable Trade = 153\n",
    "Total Trade = 249"
   ]
  },
  {
   "cell_type": "code",
   "execution_count": 153,
   "id": "b10a0ead",
   "metadata": {},
   "outputs": [
    {
     "name": "stdout",
     "output_type": "stream",
     "text": [
      "0.3855421686746988\n"
     ]
    }
   ],
   "source": [
    "Profitable_Trade = 96\n",
    "Non_Profitable_Trade = 153\n",
    "Total_Trade = 249\n",
    "Win_rate = Profitable_Trade/Total_Trade\n",
    "print(Win_rate)"
   ]
  },
  {
   "cell_type": "code",
   "execution_count": 154,
   "id": "f8b4e3a3",
   "metadata": {},
   "outputs": [
    {
     "data": {
      "text/plain": [
       "40.691566265060246"
      ]
     },
     "execution_count": 154,
     "metadata": {},
     "output_type": "execute_result"
    }
   ],
   "source": [
    "Total_Profit = df1[df1[\"Profit\"]>0][\"Profit\"].sum()\n",
    "Average_profit_per_trade  = Total_Profit/Total_Trade \n",
    "Average_profit_per_trade "
   ]
  },
  {
   "cell_type": "code",
   "execution_count": 155,
   "id": "69360aef",
   "metadata": {},
   "outputs": [
    {
     "data": {
      "text/plain": [
       "10132.2"
      ]
     },
     "execution_count": 155,
     "metadata": {},
     "output_type": "execute_result"
    }
   ],
   "source": [
    "Total_Profit"
   ]
  },
  {
   "cell_type": "code",
   "execution_count": 156,
   "id": "e560fc2f",
   "metadata": {},
   "outputs": [
    {
     "data": {
      "text/plain": [
       "46.75742971887551"
      ]
     },
     "execution_count": 156,
     "metadata": {},
     "output_type": "execute_result"
    }
   ],
   "source": [
    "Total_Loss = df1[df1[\"Profit\"]<0][\"Profit\"].sum()\n",
    "Average_Loss_per_trade = Total_Loss/Total_Trade \n",
    "abs(Average_Loss_per_trade)"
   ]
  },
  {
   "cell_type": "code",
   "execution_count": 157,
   "id": "7bbd8c50",
   "metadata": {},
   "outputs": [
    {
     "data": {
      "text/plain": [
       "0.8702695274251456"
      ]
     },
     "execution_count": 157,
     "metadata": {},
     "output_type": "execute_result"
    }
   ],
   "source": [
    "Risk_Reward_ratio = Average_profit_per_trade / abs(Average_Loss_per_trade)\n",
    "Risk_Reward_ratio"
   ]
  },
  {
   "cell_type": "code",
   "execution_count": 158,
   "id": "21240905",
   "metadata": {},
   "outputs": [
    {
     "data": {
      "text/plain": [
       "-13.04215415880389"
      ]
     },
     "execution_count": 158,
     "metadata": {},
     "output_type": "execute_result"
    }
   ],
   "source": [
    "Loss_rate = 1-Win_rate\n",
    "Expectancy = (Win_rate*Average_profit_per_trade)-(Loss_rate*abs(Average_Loss_per_trade))\n",
    "Expectancy "
   ]
  },
  {
   "cell_type": "code",
   "execution_count": 159,
   "id": "0a6eb9c8",
   "metadata": {},
   "outputs": [
    {
     "data": {
      "text/plain": [
       "0     -0.456811\n",
       "1     -0.025487\n",
       "2     -0.247959\n",
       "3     -0.325563\n",
       "4      0.377155\n",
       "         ...   \n",
       "244   -0.211034\n",
       "245   -0.125572\n",
       "246   -0.076635\n",
       "247   -0.069313\n",
       "248   -0.152823\n",
       "Name: Returns, Length: 249, dtype: float64"
      ]
     },
     "execution_count": 159,
     "metadata": {},
     "output_type": "execute_result"
    }
   ],
   "source": [
    "df1['Returns'] = (df1['Exit Price'] - df1['Entry Price']) / df1['Entry Price']\n",
    "df1['Returns']"
   ]
  },
  {
   "cell_type": "code",
   "execution_count": 160,
   "id": "3a262526",
   "metadata": {},
   "outputs": [
    {
     "data": {
      "text/plain": [
       "0     -5.456811\n",
       "1     -5.025487\n",
       "2     -5.247959\n",
       "3     -5.325563\n",
       "4     -4.622845\n",
       "         ...   \n",
       "244   -5.211034\n",
       "245   -5.125572\n",
       "246   -5.076635\n",
       "247   -5.069313\n",
       "248   -5.152823\n",
       "Name: Excess Returns, Length: 249, dtype: float64"
      ]
     },
     "execution_count": 160,
     "metadata": {},
     "output_type": "execute_result"
    }
   ],
   "source": [
    "Risk_free_interest = 5\n",
    "df1['Excess Returns'] = df1['Returns'] - Risk_free_interest\n",
    "df1['Excess Returns'] "
   ]
  },
  {
   "cell_type": "code",
   "execution_count": 161,
   "id": "5ec695cc",
   "metadata": {},
   "outputs": [
    {
     "name": "stdout",
     "output_type": "stream",
     "text": [
      "Defaulting to user installation because normal site-packages is not writeable"
     ]
    },
    {
     "name": "stderr",
     "output_type": "stream",
     "text": [
      "\n",
      "[notice] A new release of pip available: 22.3.1 -> 23.1.2\n",
      "[notice] To update, run: python.exe -m pip install --upgrade pip\n"
     ]
    },
    {
     "name": "stdout",
     "output_type": "stream",
     "text": [
      "\n",
      "Requirement already satisfied: numpy in c:\\users\\achal\\appdata\\roaming\\python\\python311\\site-packages (1.24.3)\n"
     ]
    }
   ],
   "source": [
    "!pip install numpy\n"
   ]
  },
  {
   "cell_type": "code",
   "execution_count": 162,
   "id": "047b2197",
   "metadata": {},
   "outputs": [],
   "source": [
    "import numpy as np"
   ]
  },
  {
   "cell_type": "code",
   "execution_count": 180,
   "id": "dabcc85d",
   "metadata": {},
   "outputs": [
    {
     "data": {
      "text/plain": [
       "-217.6593129815842"
      ]
     },
     "execution_count": 180,
     "metadata": {},
     "output_type": "execute_result"
    }
   ],
   "source": [
    "\n",
    "annualized_mean = df1['Excess Returns'].mean() * 249\n",
    "annualized_std = df1['Excess Returns'].std() * np.sqrt(249)\n",
    "sharpe_ratio = annualized_mean / annualized_std\n",
    "sharpe_ratio"
   ]
  },
  {
   "cell_type": "code",
   "execution_count": 181,
   "id": "256b5e88",
   "metadata": {},
   "outputs": [],
   "source": [
    "df1['Cumulative Returns'] = (1 + df1['Returns']).cumprod()"
   ]
  },
  {
   "cell_type": "code",
   "execution_count": 182,
   "id": "d5c8bfa7",
   "metadata": {},
   "outputs": [],
   "source": [
    "df1['Running Maximum'] = df1['Cumulative Returns'].cummax()"
   ]
  },
  {
   "cell_type": "code",
   "execution_count": 183,
   "id": "a3327562",
   "metadata": {},
   "outputs": [],
   "source": [
    "df1['Drawdown'] = df1['Cumulative Returns'] - df1['Running Maximum']"
   ]
  },
  {
   "cell_type": "code",
   "execution_count": 184,
   "id": "2c5f3f04",
   "metadata": {},
   "outputs": [],
   "source": [
    "max_drawdown = df1['Drawdown'].min()"
   ]
  },
  {
   "cell_type": "code",
   "execution_count": 185,
   "id": "b1e99960",
   "metadata": {},
   "outputs": [
    {
     "data": {
      "text/plain": [
       "-0.5491326272135059"
      ]
     },
     "execution_count": 185,
     "metadata": {},
     "output_type": "execute_result"
    }
   ],
   "source": [
    "max_drawdown "
   ]
  },
  {
   "cell_type": "code",
   "execution_count": 186,
   "id": "f9ae4f7a",
   "metadata": {},
   "outputs": [],
   "source": [
    "max_drawdown_pct = (df1['Drawdown'] / df1['Running Maximum']).min() * 100"
   ]
  },
  {
   "cell_type": "code",
   "execution_count": 187,
   "id": "994180d3",
   "metadata": {},
   "outputs": [
    {
     "data": {
      "text/plain": [
       "-99.9999999328563"
      ]
     },
     "execution_count": 187,
     "metadata": {},
     "output_type": "execute_result"
    }
   ],
   "source": [
    "max_drawdown_pct"
   ]
  },
  {
   "cell_type": "code",
   "execution_count": 188,
   "id": "0ca08b06",
   "metadata": {},
   "outputs": [],
   "source": [
    "total_return = (1 + df1['Returns']).prod()"
   ]
  },
  {
   "cell_type": "code",
   "execution_count": 189,
   "id": "ee3ab229",
   "metadata": {},
   "outputs": [],
   "source": [
    "num_years = len(df) / 249"
   ]
  },
  {
   "cell_type": "code",
   "execution_count": 190,
   "id": "750a9ca6",
   "metadata": {},
   "outputs": [],
   "source": [
    "cagr = (total_return ** (1/num_years)) - 1"
   ]
  },
  {
   "cell_type": "code",
   "execution_count": 191,
   "id": "0e701bc9",
   "metadata": {},
   "outputs": [
    {
     "data": {
      "text/plain": [
       "-0.999999999631292"
      ]
     },
     "execution_count": 191,
     "metadata": {},
     "output_type": "execute_result"
    }
   ],
   "source": [
    "cagr"
   ]
  },
  {
   "cell_type": "code",
   "execution_count": 193,
   "id": "20f98097",
   "metadata": {},
   "outputs": [
    {
     "data": {
      "text/plain": [
       "-0.9999999999987751"
      ]
     },
     "execution_count": 193,
     "metadata": {},
     "output_type": "execute_result"
    }
   ],
   "source": [
    "annual_return = (df1['Cumulative Returns'].iloc[-1] / df1['Entry Price'].iloc[0]) ** (1 / (len(df1) / 249)) - 1\n",
    "annual_return"
   ]
  },
  {
   "cell_type": "code",
   "execution_count": 194,
   "id": "7fdaf606",
   "metadata": {},
   "outputs": [],
   "source": [
    "calmar_ratio = annual_return / abs(max_drawdown)"
   ]
  },
  {
   "cell_type": "code",
   "execution_count": 195,
   "id": "eb2f77ee",
   "metadata": {},
   "outputs": [
    {
     "data": {
      "text/plain": [
       "-1.8210536953033196"
      ]
     },
     "execution_count": 195,
     "metadata": {},
     "output_type": "execute_result"
    }
   ],
   "source": [
    "calmar_ratio"
   ]
  },
  {
   "cell_type": "code",
   "execution_count": 196,
   "id": "08f457e7",
   "metadata": {},
   "outputs": [],
   "source": [
    "df1.to_csv(\"assignment.csv\")"
   ]
  },
  {
   "cell_type": "code",
   "execution_count": null,
   "id": "97620ef5",
   "metadata": {},
   "outputs": [],
   "source": []
  }
 ],
 "metadata": {
  "kernelspec": {
   "display_name": "Python 3 (ipykernel)",
   "language": "python",
   "name": "python3"
  },
  "language_info": {
   "codemirror_mode": {
    "name": "ipython",
    "version": 3
   },
   "file_extension": ".py",
   "mimetype": "text/x-python",
   "name": "python",
   "nbconvert_exporter": "python",
   "pygments_lexer": "ipython3",
   "version": "3.11.3"
  }
 },
 "nbformat": 4,
 "nbformat_minor": 5
}
